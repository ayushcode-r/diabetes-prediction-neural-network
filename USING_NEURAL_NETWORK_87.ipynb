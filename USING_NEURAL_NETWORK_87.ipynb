{
 "cells": [
  {
   "cell_type": "markdown",
   "id": "62fa0093-1c36-4767-a133-d96cc0feb28a",
   "metadata": {},
   "source": [
    "## Diabetes Prediction using Artificial Neural Network(ANN)"
   ]
  },
  {
   "cell_type": "code",
   "execution_count": 2,
   "id": "9d8c9bcc-e0cd-43e1-886a-9ff35bdfb77a",
   "metadata": {},
   "outputs": [],
   "source": [
    "import pandas as pd\n",
    "import numpy as np\n",
    "import matplotlib.pyplot as plt\n",
    "import seaborn as sns"
   ]
  },
  {
   "cell_type": "code",
   "execution_count": 6,
   "id": "88f9c6d4-022e-4270-ad6f-cf2dbc52a78d",
   "metadata": {},
   "outputs": [
    {
     "data": {
      "text/html": [
       "<div>\n",
       "<style scoped>\n",
       "    .dataframe tbody tr th:only-of-type {\n",
       "        vertical-align: middle;\n",
       "    }\n",
       "\n",
       "    .dataframe tbody tr th {\n",
       "        vertical-align: top;\n",
       "    }\n",
       "\n",
       "    .dataframe thead th {\n",
       "        text-align: right;\n",
       "    }\n",
       "</style>\n",
       "<table border=\"1\" class=\"dataframe\">\n",
       "  <thead>\n",
       "    <tr style=\"text-align: right;\">\n",
       "      <th></th>\n",
       "      <th>Unnamed: 0</th>\n",
       "      <th>Age</th>\n",
       "      <th>Sex</th>\n",
       "      <th>Ethnicity</th>\n",
       "      <th>BMI</th>\n",
       "      <th>Waist_Circumference</th>\n",
       "      <th>Fasting_Blood_Glucose</th>\n",
       "      <th>HbA1c</th>\n",
       "      <th>Blood_Pressure_Systolic</th>\n",
       "      <th>Blood_Pressure_Diastolic</th>\n",
       "      <th>...</th>\n",
       "      <th>Cholesterol_HDL</th>\n",
       "      <th>Cholesterol_LDL</th>\n",
       "      <th>GGT</th>\n",
       "      <th>Serum_Urate</th>\n",
       "      <th>Physical_Activity_Level</th>\n",
       "      <th>Dietary_Intake_Calories</th>\n",
       "      <th>Alcohol_Consumption</th>\n",
       "      <th>Smoking_Status</th>\n",
       "      <th>Family_History_of_Diabetes</th>\n",
       "      <th>Previous_Gestational_Diabetes</th>\n",
       "    </tr>\n",
       "  </thead>\n",
       "  <tbody>\n",
       "    <tr>\n",
       "      <th>0</th>\n",
       "      <td>0</td>\n",
       "      <td>58</td>\n",
       "      <td>Female</td>\n",
       "      <td>White</td>\n",
       "      <td>35.8</td>\n",
       "      <td>83.4</td>\n",
       "      <td>123.9</td>\n",
       "      <td>10.9</td>\n",
       "      <td>152</td>\n",
       "      <td>114</td>\n",
       "      <td>...</td>\n",
       "      <td>50.2</td>\n",
       "      <td>99.2</td>\n",
       "      <td>37.5</td>\n",
       "      <td>7.2</td>\n",
       "      <td>Moderate</td>\n",
       "      <td>1538</td>\n",
       "      <td>Moderate</td>\n",
       "      <td>Never</td>\n",
       "      <td>0</td>\n",
       "      <td>1</td>\n",
       "    </tr>\n",
       "    <tr>\n",
       "      <th>1</th>\n",
       "      <td>1</td>\n",
       "      <td>48</td>\n",
       "      <td>Male</td>\n",
       "      <td>Asian</td>\n",
       "      <td>24.1</td>\n",
       "      <td>71.4</td>\n",
       "      <td>183.7</td>\n",
       "      <td>12.8</td>\n",
       "      <td>103</td>\n",
       "      <td>91</td>\n",
       "      <td>...</td>\n",
       "      <td>62.0</td>\n",
       "      <td>146.4</td>\n",
       "      <td>88.5</td>\n",
       "      <td>6.1</td>\n",
       "      <td>Moderate</td>\n",
       "      <td>2653</td>\n",
       "      <td>Moderate</td>\n",
       "      <td>Current</td>\n",
       "      <td>0</td>\n",
       "      <td>1</td>\n",
       "    </tr>\n",
       "    <tr>\n",
       "      <th>2</th>\n",
       "      <td>2</td>\n",
       "      <td>34</td>\n",
       "      <td>Female</td>\n",
       "      <td>Black</td>\n",
       "      <td>25.0</td>\n",
       "      <td>113.8</td>\n",
       "      <td>142.0</td>\n",
       "      <td>14.5</td>\n",
       "      <td>179</td>\n",
       "      <td>104</td>\n",
       "      <td>...</td>\n",
       "      <td>32.1</td>\n",
       "      <td>164.1</td>\n",
       "      <td>56.2</td>\n",
       "      <td>6.9</td>\n",
       "      <td>Low</td>\n",
       "      <td>1684</td>\n",
       "      <td>Heavy</td>\n",
       "      <td>Former</td>\n",
       "      <td>1</td>\n",
       "      <td>0</td>\n",
       "    </tr>\n",
       "    <tr>\n",
       "      <th>3</th>\n",
       "      <td>3</td>\n",
       "      <td>62</td>\n",
       "      <td>Male</td>\n",
       "      <td>Asian</td>\n",
       "      <td>32.7</td>\n",
       "      <td>100.4</td>\n",
       "      <td>167.4</td>\n",
       "      <td>8.8</td>\n",
       "      <td>176</td>\n",
       "      <td>118</td>\n",
       "      <td>...</td>\n",
       "      <td>41.1</td>\n",
       "      <td>84.0</td>\n",
       "      <td>34.4</td>\n",
       "      <td>5.4</td>\n",
       "      <td>Low</td>\n",
       "      <td>3796</td>\n",
       "      <td>Moderate</td>\n",
       "      <td>Never</td>\n",
       "      <td>1</td>\n",
       "      <td>0</td>\n",
       "    </tr>\n",
       "    <tr>\n",
       "      <th>4</th>\n",
       "      <td>4</td>\n",
       "      <td>27</td>\n",
       "      <td>Female</td>\n",
       "      <td>Asian</td>\n",
       "      <td>33.5</td>\n",
       "      <td>110.8</td>\n",
       "      <td>146.4</td>\n",
       "      <td>7.1</td>\n",
       "      <td>122</td>\n",
       "      <td>97</td>\n",
       "      <td>...</td>\n",
       "      <td>53.9</td>\n",
       "      <td>92.8</td>\n",
       "      <td>81.9</td>\n",
       "      <td>7.4</td>\n",
       "      <td>Moderate</td>\n",
       "      <td>3161</td>\n",
       "      <td>Heavy</td>\n",
       "      <td>Current</td>\n",
       "      <td>0</td>\n",
       "      <td>0</td>\n",
       "    </tr>\n",
       "  </tbody>\n",
       "</table>\n",
       "<p>5 rows × 21 columns</p>\n",
       "</div>"
      ],
      "text/plain": [
       "   Unnamed: 0  Age     Sex Ethnicity   BMI  Waist_Circumference  \\\n",
       "0           0   58  Female     White  35.8                 83.4   \n",
       "1           1   48    Male     Asian  24.1                 71.4   \n",
       "2           2   34  Female     Black  25.0                113.8   \n",
       "3           3   62    Male     Asian  32.7                100.4   \n",
       "4           4   27  Female     Asian  33.5                110.8   \n",
       "\n",
       "   Fasting_Blood_Glucose  HbA1c  Blood_Pressure_Systolic  \\\n",
       "0                  123.9   10.9                      152   \n",
       "1                  183.7   12.8                      103   \n",
       "2                  142.0   14.5                      179   \n",
       "3                  167.4    8.8                      176   \n",
       "4                  146.4    7.1                      122   \n",
       "\n",
       "   Blood_Pressure_Diastolic  ...  Cholesterol_HDL  Cholesterol_LDL   GGT  \\\n",
       "0                       114  ...             50.2             99.2  37.5   \n",
       "1                        91  ...             62.0            146.4  88.5   \n",
       "2                       104  ...             32.1            164.1  56.2   \n",
       "3                       118  ...             41.1             84.0  34.4   \n",
       "4                        97  ...             53.9             92.8  81.9   \n",
       "\n",
       "   Serum_Urate  Physical_Activity_Level Dietary_Intake_Calories  \\\n",
       "0          7.2                 Moderate                    1538   \n",
       "1          6.1                 Moderate                    2653   \n",
       "2          6.9                      Low                    1684   \n",
       "3          5.4                      Low                    3796   \n",
       "4          7.4                 Moderate                    3161   \n",
       "\n",
       "   Alcohol_Consumption Smoking_Status Family_History_of_Diabetes  \\\n",
       "0             Moderate          Never                          0   \n",
       "1             Moderate        Current                          0   \n",
       "2                Heavy         Former                          1   \n",
       "3             Moderate          Never                          1   \n",
       "4                Heavy        Current                          0   \n",
       "\n",
       "   Previous_Gestational_Diabetes  \n",
       "0                              1  \n",
       "1                              1  \n",
       "2                              0  \n",
       "3                              0  \n",
       "4                              0  \n",
       "\n",
       "[5 rows x 21 columns]"
      ]
     },
     "execution_count": 6,
     "metadata": {},
     "output_type": "execute_result"
    }
   ],
   "source": [
    "df = pd.read_csv(\"diabetes_dataset.csv\")\n",
    "df.head()"
   ]
  },
  {
   "cell_type": "markdown",
   "id": "0ae97558-bb65-4d27-8e90-00f6315e5435",
   "metadata": {},
   "source": [
    "## DATA CLEANING"
   ]
  },
  {
   "cell_type": "code",
   "execution_count": 13,
   "id": "ae005ffb-009a-4a1c-922a-bf8ad5f3116f",
   "metadata": {},
   "outputs": [
    {
     "name": "stdout",
     "output_type": "stream",
     "text": [
      "Number of duplicate rows: 0\n"
     ]
    }
   ],
   "source": [
    "print('Number of duplicate rows:', df.duplicated().sum())"
   ]
  },
  {
   "cell_type": "code",
   "execution_count": 15,
   "id": "6264f9fb-e59b-4185-9457-bb2ba080de21",
   "metadata": {},
   "outputs": [
    {
     "name": "stdout",
     "output_type": "stream",
     "text": [
      "Missing values in each column:\n"
     ]
    },
    {
     "data": {
      "text/plain": [
       "Unnamed: 0                       0\n",
       "Age                              0\n",
       "Sex                              0\n",
       "Ethnicity                        0\n",
       "BMI                              0\n",
       "Waist_Circumference              0\n",
       "Fasting_Blood_Glucose            0\n",
       "HbA1c                            0\n",
       "Blood_Pressure_Systolic          0\n",
       "Blood_Pressure_Diastolic         0\n",
       "Cholesterol_Total                0\n",
       "Cholesterol_HDL                  0\n",
       "Cholesterol_LDL                  0\n",
       "GGT                              0\n",
       "Serum_Urate                      0\n",
       "Physical_Activity_Level          0\n",
       "Dietary_Intake_Calories          0\n",
       "Alcohol_Consumption              0\n",
       "Smoking_Status                   0\n",
       "Family_History_of_Diabetes       0\n",
       "Previous_Gestational_Diabetes    0\n",
       "dtype: int64"
      ]
     },
     "metadata": {},
     "output_type": "display_data"
    }
   ],
   "source": [
    "# Check for missing values in each column\n",
    "print('Missing values in each column:')\n",
    "display(df.isnull().sum())"
   ]
  },
  {
   "cell_type": "code",
   "execution_count": 17,
   "id": "3091d1ff-0d01-4467-b1b7-877f9c41bb56",
   "metadata": {},
   "outputs": [],
   "source": [
    "df = df.dropna()"
   ]
  },
  {
   "cell_type": "code",
   "execution_count": 19,
   "id": "52dd84ef-3cdf-4ecb-8a4e-cd9f2d8b35d0",
   "metadata": {},
   "outputs": [],
   "source": [
    "df[\"Alcohol_Consumption\"] = df[\"Alcohol_Consumption\"].fillna(df[\"Alcohol_Consumption\"].mode()[0])"
   ]
  },
  {
   "cell_type": "code",
   "execution_count": 21,
   "id": "277e4e7c-06d1-4276-b3d4-77cf8256d0f9",
   "metadata": {},
   "outputs": [
    {
     "name": "stdout",
     "output_type": "stream",
     "text": [
      "<class 'pandas.core.frame.DataFrame'>\n",
      "Index: 6680 entries, 0 to 9999\n",
      "Data columns (total 21 columns):\n",
      " #   Column                         Non-Null Count  Dtype  \n",
      "---  ------                         --------------  -----  \n",
      " 0   Unnamed: 0                     6680 non-null   int64  \n",
      " 1   Age                            6680 non-null   int64  \n",
      " 2   Sex                            6680 non-null   object \n",
      " 3   Ethnicity                      6680 non-null   object \n",
      " 4   BMI                            6680 non-null   float64\n",
      " 5   Waist_Circumference            6680 non-null   float64\n",
      " 6   Fasting_Blood_Glucose          6680 non-null   float64\n",
      " 7   HbA1c                          6680 non-null   float64\n",
      " 8   Blood_Pressure_Systolic        6680 non-null   int64  \n",
      " 9   Blood_Pressure_Diastolic       6680 non-null   int64  \n",
      " 10  Cholesterol_Total              6680 non-null   float64\n",
      " 11  Cholesterol_HDL                6680 non-null   float64\n",
      " 12  Cholesterol_LDL                6680 non-null   float64\n",
      " 13  GGT                            6680 non-null   float64\n",
      " 14  Serum_Urate                    6680 non-null   float64\n",
      " 15  Physical_Activity_Level        6680 non-null   object \n",
      " 16  Dietary_Intake_Calories        6680 non-null   int64  \n",
      " 17  Alcohol_Consumption            6680 non-null   object \n",
      " 18  Smoking_Status                 6680 non-null   object \n",
      " 19  Family_History_of_Diabetes     6680 non-null   int64  \n",
      " 20  Previous_Gestational_Diabetes  6680 non-null   int64  \n",
      "dtypes: float64(9), int64(7), object(5)\n",
      "memory usage: 1.1+ MB\n"
     ]
    }
   ],
   "source": [
    "df.isnull().sum()\n",
    "df.info()"
   ]
  },
  {
   "cell_type": "markdown",
   "id": "87036d7c-c051-4866-b0a7-b5113dbf4a84",
   "metadata": {},
   "source": [
    "## Feature Engineering"
   ]
  },
  {
   "cell_type": "code",
   "execution_count": 37,
   "id": "22141b68-df73-426c-a2c0-b720c60ae2fd",
   "metadata": {},
   "outputs": [
    {
     "name": "stdout",
     "output_type": "stream",
     "text": [
      "Target column Diabetes created based on Fasting_Blood_Glucose.\n"
     ]
    },
    {
     "data": {
      "image/png": "[encoded data removed]",
      "text/plain": [
       "<Figure size 600x400 with 1 Axes>"
      ]
     },
     "metadata": {},
     "output_type": "display_data"
    }
   ],
   "source": [
    "# Create new target column 'Diabetes'\n",
    "if 'Fasting_Blood_Glucose' in df.columns:\n",
    "    df['Diabetes'] = df['Fasting_Blood_Glucose'].apply(lambda x: 1 if x > 125 else 0)\n",
    "    print('Target column Diabetes created based on Fasting_Blood_Glucose.')\n",
    "else:\n",
    "    print('Fasting_Blood_Glucose column not found.')\n",
    "\n",
    "# Examine the distribution of the new target\n",
    "plt.figure(figsize=(6, 4))\n",
    "sns.countplot(x='Diabetes', data=df)\n",
    "plt.title('Distribution of Diabetes Outcome')\n",
    "plt.tight_layout()\n",
    "plt.show()"
   ]
  },
  {
   "cell_type": "code",
   "execution_count": 39,
   "id": "558e57a6-916a-443c-8b83-afa75c68b368",
   "metadata": {},
   "outputs": [],
   "source": [
    "# Select predictor columns (excluding 'Diabetes' and non-informative string columns)\n",
    "feature_cols = ['Age', 'BMI', 'Waist_Circumference', 'Fasting_Blood_Glucose', 'HbA1c',\n",
    "                'Blood_Pressure_Systolic', 'Blood_Pressure_Diastolic',\n",
    "                'Cholesterol_Total', 'Cholesterol_HDL', 'Cholesterol_LDL',\n",
    "                'GGT', 'Serum_Urate', 'Dietary_Intake_Calories', 'Family_History_of_Diabetes',\n",
    "                'Previous_Gestational_Diabetes']\n",
    "\n"
   ]
  },
  {
   "cell_type": "code",
   "execution_count": 41,
   "id": "1ae3fdb2-2e5e-4749-9370-aaa39f9ef86c",
   "metadata": {},
   "outputs": [],
   "source": [
    "feature_cols = [col for col in feature_cols if col in df.columns]"
   ]
  },
  {
   "cell_type": "markdown",
   "id": "86c563eb-f8d8-42b8-a04d-0613fb393382",
   "metadata": {},
   "source": [
    "## SPLITTING THE DATA INTO TRAIN AND TEST SPLIT\n"
   ]
  },
  {
   "cell_type": "code",
   "execution_count": 47,
   "id": "632b439c-6f93-4f8a-a330-959f0a6d4ad9",
   "metadata": {},
   "outputs": [
    {
     "name": "stdout",
     "output_type": "stream",
     "text": [
      "Training and test sets created with proportions:\n",
      "Train: (5344, 15) Test: (1336, 15)\n"
     ]
    }
   ],
   "source": [
    "from sklearn.model_selection import train_test_split\n",
    "X = df[feature_cols]\n",
    "y = df['Diabetes']\n",
    "X_train, X_test, y_train, y_test = train_test_split(X, y, test_size=0.2, random_state=42)\n",
    "print('Training and test sets created with proportions:')\n",
    "print('Train:', X_train.shape, 'Test:', X_test.shape)"
   ]
  },
  {
   "cell_type": "markdown",
   "id": "2deab682-fa06-4b40-9d54-dac14ab6e785",
   "metadata": {},
   "source": [
    "## TRANING THE DATA \n",
    "## USING ARTIFICIAL NEURAL NETWORK(ANN)"
   ]
  },
  {
   "cell_type": "code",
   "execution_count": 59,
   "id": "da3aae18-6d65-40f8-bcc5-7d45431645b8",
   "metadata": {},
   "outputs": [
    {
     "name": "stdout",
     "output_type": "stream",
     "text": [
      "Epoch 1/10\n"
     ]
    },
    {
     "name": "stderr",
     "output_type": "stream",
     "text": [
      "/opt/anaconda3/lib/python3.12/site-packages/keras/src/layers/core/dense.py:87: UserWarning: Do not pass an `input_shape`/`input_dim` argument to a layer. When using Sequential models, prefer using an `Input(shape)` object as the first layer in the model instead.\n",
      "  super().__init__(activity_regularizer=activity_regularizer, **kwargs)\n"
     ]
    },
    {
     "name": "stdout",
     "output_type": "stream",
     "text": [
      "\u001b[1m167/167\u001b[0m \u001b[32m━━━━━━━━━━━━━━━━━━━━\u001b[0m\u001b[37m\u001b[0m \u001b[1m1s\u001b[0m 2ms/step - accuracy: 0.6829 - loss: 3.9818 - val_accuracy: 0.8548 - val_loss: 0.4711\n",
      "Epoch 2/10\n",
      "\u001b[1m167/167\u001b[0m \u001b[32m━━━━━━━━━━━━━━━━━━━━\u001b[0m\u001b[37m\u001b[0m \u001b[1m0s\u001b[0m 922us/step - accuracy: 0.8495 - loss: 0.6973 - val_accuracy: 0.9304 - val_loss: 0.1988\n",
      "Epoch 3/10\n",
      "\u001b[1m167/167\u001b[0m \u001b[32m━━━━━━━━━━━━━━━━━━━━\u001b[0m\u001b[37m\u001b[0m \u001b[1m0s\u001b[0m 910us/step - accuracy: 0.8966 - loss: 0.4119 - val_accuracy: 0.7972 - val_loss: 1.2137\n",
      "Epoch 4/10\n",
      "\u001b[1m167/167\u001b[0m \u001b[32m━━━━━━━━━━━━━━━━━━━━\u001b[0m\u001b[37m\u001b[0m \u001b[1m0s\u001b[0m 908us/step - accuracy: 0.8966 - loss: 0.3937 - val_accuracy: 0.9341 - val_loss: 0.1962\n",
      "Epoch 5/10\n",
      "\u001b[1m167/167\u001b[0m \u001b[32m━━━━━━━━━━━━━━━━━━━━\u001b[0m\u001b[37m\u001b[0m \u001b[1m0s\u001b[0m 904us/step - accuracy: 0.9195 - loss: 0.2769 - val_accuracy: 0.9132 - val_loss: 0.3228\n",
      "Epoch 6/10\n",
      "\u001b[1m167/167\u001b[0m \u001b[32m━━━━━━━━━━━━━━━━━━━━\u001b[0m\u001b[37m\u001b[0m \u001b[1m0s\u001b[0m 898us/step - accuracy: 0.9017 - loss: 0.5815 - val_accuracy: 0.9409 - val_loss: 0.1781\n",
      "Epoch 7/10\n",
      "\u001b[1m167/167\u001b[0m \u001b[32m━━━━━━━━━━━━━━━━━━━━\u001b[0m\u001b[37m\u001b[0m \u001b[1m0s\u001b[0m 947us/step - accuracy: 0.8820 - loss: 0.7142 - val_accuracy: 0.9461 - val_loss: 0.1658\n",
      "Epoch 8/10\n",
      "\u001b[1m167/167\u001b[0m \u001b[32m━━━━━━━━━━━━━━━━━━━━\u001b[0m\u001b[37m\u001b[0m \u001b[1m0s\u001b[0m 906us/step - accuracy: 0.9341 - loss: 0.2779 - val_accuracy: 0.9386 - val_loss: 0.2012\n",
      "Epoch 9/10\n",
      "\u001b[1m167/167\u001b[0m \u001b[32m━━━━━━━━━━━━━━━━━━━━\u001b[0m\u001b[37m\u001b[0m \u001b[1m0s\u001b[0m 907us/step - accuracy: 0.9115 - loss: 0.3766 - val_accuracy: 0.9409 - val_loss: 0.1708\n",
      "Epoch 10/10\n",
      "\u001b[1m167/167\u001b[0m \u001b[32m━━━━━━━━━━━━━━━━━━━━\u001b[0m\u001b[37m\u001b[0m \u001b[1m0s\u001b[0m 896us/step - accuracy: 0.9117 - loss: 0.3971 - val_accuracy: 0.8713 - val_loss: 0.7442\n",
      "\u001b[1m42/42\u001b[0m \u001b[32m━━━━━━━━━━━━━━━━━━━━\u001b[0m\u001b[37m\u001b[0m \u001b[1m0s\u001b[0m 801us/step - accuracy: 0.8671 - loss: 0.7964\n",
      "Neural Network Accuracy: 87.13%\n"
     ]
    }
   ],
   "source": [
    "from tensorflow.keras.models import Sequential\n",
    "from tensorflow.keras.layers import Dense\n",
    "from tensorflow.keras.optimizers import Adam\n",
    "\n",
    "# Build a simple neural network\n",
    "model = Sequential()\n",
    "model.add(Dense(64, input_dim=X_train.shape[1], activation='relu'))\n",
    "model.add(Dense(32, activation='relu'))\n",
    "model.add(Dense(1, activation='sigmoid'))\n",
    "# Compile the model\n",
    "model.compile(optimizer=Adam(), loss='binary_crossentropy', metrics=['accuracy'])\n",
    "history = model.fit(X_train, y_train, epochs=10, batch_size=32, validation_data=(X_test, y_test))\n",
    "loss, accuracy = model.evaluate(X_test, y_test)\n",
    "print(f\"Neural Network Accuracy: {accuracy * 100:.2f}%\")\n",
    "\n"
   ]
  },
  {
   "cell_type": "markdown",
   "id": "68158e97-2ebf-4e86-b32d-6534be3bcf15",
   "metadata": {},
   "source": [
    "## MODEL PREDICTION ON TEST SET"
   ]
  },
  {
   "cell_type": "code",
   "execution_count": 63,
   "id": "508f67a7-1ea3-46d4-a049-0850afe3db77",
   "metadata": {},
   "outputs": [
    {
     "name": "stdout",
     "output_type": "stream",
     "text": [
      "\u001b[1m42/42\u001b[0m \u001b[32m━━━━━━━━━━━━━━━━━━━━\u001b[0m\u001b[37m\u001b[0m \u001b[1m0s\u001b[0m 797us/step\n",
      "Predicted values on the test set:\n",
      "[[0]\n",
      " [0]\n",
      " [0]\n",
      " ...\n",
      " [1]\n",
      " [1]\n",
      " [1]]\n"
     ]
    }
   ],
   "source": [
    "\n",
    "# Predicting on the test set\n",
    "y_pred = model.predict(X_test)\n",
    "\n",
    "# Convert the predictions to binary (0 or 1) for classification\n",
    "y_pred_binary = (y_pred > 0.5).astype(int)\n",
    "\n",
    "# Print the predicted values\n",
    "print(\"Predicted values on the test set:\")\n",
    "print(y_pred_binary)\n",
    "\n"
   ]
  },
  {
   "cell_type": "code",
   "execution_count": 65,
   "id": "d8973e70-34fd-49f1-88c8-fd68e17ea5af",
   "metadata": {},
   "outputs": [
    {
     "name": "stdout",
     "output_type": "stream",
     "text": [
      "              precision    recall  f1-score   support\n",
      "\n",
      "           0       0.78      1.00      0.87       590\n",
      "           1       1.00      0.77      0.87       746\n",
      "\n",
      "    accuracy                           0.87      1336\n",
      "   macro avg       0.89      0.88      0.87      1336\n",
      "weighted avg       0.90      0.87      0.87      1336\n",
      "\n"
     ]
    },
    {
     "data": {
      "image/png": "[encoded data removed]",
      "text/plain": [
       "<Figure size 600x400 with 2 Axes>"
      ]
     },
     "metadata": {},
     "output_type": "display_data"
    }
   ],
   "source": [
    "\n",
    "from sklearn.metrics import classification_report, confusion_matrix\n",
    "\n",
    "# Classification Report\n",
    "print(classification_report(y_test, y_pred_binary))\n",
    "\n",
    "# Confusion Matrix\n",
    "cm = confusion_matrix(y_test, y_pred_binary)\n",
    "plt.figure(figsize=(6, 4))\n",
    "sns.heatmap(cm, annot=True, fmt='d', cmap='Blues')\n",
    "plt.xlabel('Predicted')\n",
    "plt.ylabel('Actual')\n",
    "plt.title('Confusion Matrix')\n",
    "plt.tight_layout()\n",
    "plt.show()\n"
   ]
  },
  {
   "cell_type": "code",
   "execution_count": null,
   "id": "4f608989-6e4a-417d-a89e-906ec0143111",
   "metadata": {},
   "outputs": [],
   "source": []
  },
  {
   "cell_type": "code",
   "execution_count": null,
   "id": "6b2495fd-aba3-44cf-af88-5b4077f2edc6",
   "metadata": {},
   "outputs": [],
   "source": []
  }
 ],
 "metadata": {
  "kernelspec": {
   "display_name": "Python 3 (ipykernel)",
   "language": "python",
   "name": "python3"
  },
  "language_info": {
   "codemirror_mode": {
    "name": "ipython",
    "version": 3
   },
   "file_extension": ".py",
   "mimetype": "text/x-python",
   "name": "python",
   "nbconvert_exporter": "python",
   "pygments_lexer": "ipython3",
   "version": "3.12.2"
  }
 },
 "nbformat": 4,
 "nbformat_minor": 5
}
